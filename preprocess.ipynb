{
 "cells": [
  {
   "cell_type": "code",
   "execution_count": 2,
   "id": "7a6efa72",
   "metadata": {},
   "outputs": [],
   "source": [
    "%load_ext autoreload\n",
    "%autoreload 2\n",
    "\n",
    "import preprocess as prp\n"
   ]
  },
  {
   "cell_type": "code",
   "execution_count": 3,
   "id": "e7c2ad2f",
   "metadata": {},
   "outputs": [
    {
     "name": "stderr",
     "output_type": "stream",
     "text": [
      "INFO:root:Ingesting the data\n",
      "INFO:root:Ingested. Total transactions: 33819106\n",
      "INFO:root:Sampling the data\n",
      "INFO:root:Size of sample data: (25401962, 10)\n",
      "INFO:root:Unique users: 154656\n",
      "INFO:root:Sample ratio: 0.75\n",
      "INFO:root:Removing outlier users by number of orders\n",
      "INFO:root:Size of sample data: (19893317, 10)\n",
      "INFO:root:Unique users: 146611\n",
      "INFO:root:Getting train and test\n",
      "INFO:root:Sample data shape: (19893317, 10)\n",
      "INFO:root:Unique users: 146611\n",
      "/Users/eliza/next_basket_rec_sys/.venv/lib/python3.12/site-packages/joblib/externals/loky/process_executor.py:782: UserWarning: A worker stopped while some jobs were given to the executor. This can be caused by a too short worker timeout or by a memory leak.\n",
      "  warnings.warn(\n",
      "/Users/eliza/next_basket_rec_sys/.venv/lib/python3.12/site-packages/joblib/externals/loky/process_executor.py:782: UserWarning: A worker stopped while some jobs were given to the executor. This can be caused by a too short worker timeout or by a memory leak.\n",
      "  warnings.warn(\n",
      "/Users/eliza/next_basket_rec_sys/.venv/lib/python3.12/site-packages/joblib/externals/loky/process_executor.py:782: UserWarning: A worker stopped while some jobs were given to the executor. This can be caused by a too short worker timeout or by a memory leak.\n",
      "  warnings.warn(\n",
      "/Users/eliza/next_basket_rec_sys/.venv/lib/python3.12/site-packages/joblib/externals/loky/process_executor.py:782: UserWarning: A worker stopped while some jobs were given to the executor. This can be caused by a too short worker timeout or by a memory leak.\n",
      "  warnings.warn(\n",
      "/Users/eliza/next_basket_rec_sys/.venv/lib/python3.12/site-packages/joblib/externals/loky/process_executor.py:782: UserWarning: A worker stopped while some jobs were given to the executor. This can be caused by a too short worker timeout or by a memory leak.\n",
      "  warnings.warn(\n",
      "/Users/eliza/next_basket_rec_sys/.venv/lib/python3.12/site-packages/joblib/externals/loky/process_executor.py:782: UserWarning: A worker stopped while some jobs were given to the executor. This can be caused by a too short worker timeout or by a memory leak.\n",
      "  warnings.warn(\n",
      "/Users/eliza/next_basket_rec_sys/.venv/lib/python3.12/site-packages/joblib/externals/loky/process_executor.py:782: UserWarning: A worker stopped while some jobs were given to the executor. This can be caused by a too short worker timeout or by a memory leak.\n",
      "  warnings.warn(\n",
      "INFO:root:Train shape: (18357729, 10)\n",
      "INFO:root:Test shape: (1535588, 11)\n",
      "INFO:root:Sorting and dropping columns\n",
      "INFO:root:Sorting and dropping columns\n",
      "INFO:root:Removing rare products\n",
      "INFO:root:Removed 16868 rare products\n",
      "INFO:root:Train size: (18233423, 4)\n",
      "INFO:root:Test size: (1521556, 5)\n",
      "INFO:root:Saving train and test\n"
     ]
    }
   ],
   "source": [
    "train, test = prp.preprocess(\n",
    "    sample_ratio=0.75\n",
    ")"
   ]
  },
  {
   "cell_type": "code",
   "execution_count": null,
   "id": "e4e7e105",
   "metadata": {},
   "outputs": [],
   "source": []
  },
  {
   "cell_type": "code",
   "execution_count": null,
   "id": "89bcb7aa",
   "metadata": {},
   "outputs": [
    {
     "data": {
      "text/plain": [
       "(2504415, 4)"
      ]
     },
     "execution_count": 91,
     "metadata": {},
     "output_type": "execute_result"
    }
   ],
   "source": [
    "train_len = train.shape[0]\n",
    "train_users = train.user_id.unique()"
   ]
  },
  {
   "cell_type": "code",
   "execution_count": null,
   "id": "1abe560b",
   "metadata": {},
   "outputs": [],
   "source": []
  },
  {
   "cell_type": "code",
   "execution_count": null,
   "id": "d434d4bd",
   "metadata": {},
   "outputs": [],
   "source": []
  }
 ],
 "metadata": {
  "kernelspec": {
   "display_name": ".venv",
   "language": "python",
   "name": "python3"
  },
  "language_info": {
   "codemirror_mode": {
    "name": "ipython",
    "version": 3
   },
   "file_extension": ".py",
   "mimetype": "text/x-python",
   "name": "python",
   "nbconvert_exporter": "python",
   "pygments_lexer": "ipython3",
   "version": "3.12.0"
  }
 },
 "nbformat": 4,
 "nbformat_minor": 5
}
