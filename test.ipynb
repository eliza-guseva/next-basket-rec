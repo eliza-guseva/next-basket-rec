{
 "cells": [
  {
   "cell_type": "code",
   "execution_count": 1,
   "id": "7a6efa72",
   "metadata": {},
   "outputs": [],
   "source": [
    "%load_ext autoreload\n",
    "%autoreload 2\n",
    "\n",
    "import preprocess as prp\n"
   ]
  },
  {
   "cell_type": "code",
   "execution_count": null,
   "id": "e7c2ad2f",
   "metadata": {},
   "outputs": [
    {
     "name": "stderr",
     "output_type": "stream",
     "text": [
      "INFO:root:Ingesting the data\n"
     ]
    }
   ],
   "source": [
    "train, test = prp.preprocess(\n",
    "    sample_ratio=0.15\n",
    ")"
   ]
  },
  {
   "cell_type": "code",
   "execution_count": null,
   "id": "e4e7e105",
   "metadata": {},
   "outputs": [],
   "source": []
  },
  {
   "cell_type": "code",
   "execution_count": null,
   "id": "89bcb7aa",
   "metadata": {},
   "outputs": [
    {
     "data": {
      "text/plain": [
       "(2504415, 4)"
      ]
     },
     "execution_count": 91,
     "metadata": {},
     "output_type": "execute_result"
    }
   ],
   "source": [
    "train_len = train.shape[0]\n",
    "train_users = train.user_id.unique()"
   ]
  },
  {
   "cell_type": "code",
   "execution_count": null,
   "id": "1abe560b",
   "metadata": {},
   "outputs": [],
   "source": []
  },
  {
   "cell_type": "code",
   "execution_count": null,
   "id": "d434d4bd",
   "metadata": {},
   "outputs": [],
   "source": []
  }
 ],
 "metadata": {
  "kernelspec": {
   "display_name": ".venv",
   "language": "python",
   "name": "python3"
  },
  "language_info": {
   "codemirror_mode": {
    "name": "ipython",
    "version": 3
   },
   "file_extension": ".py",
   "mimetype": "text/x-python",
   "name": "python",
   "nbconvert_exporter": "python",
   "pygments_lexer": "ipython3",
   "version": "3.12.0"
  }
 },
 "nbformat": 4,
 "nbformat_minor": 5
}
