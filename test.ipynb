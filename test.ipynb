{
 "cells": [
  {
   "cell_type": "code",
   "execution_count": 1,
   "id": "7a6efa72",
   "metadata": {},
   "outputs": [],
   "source": [
    "%load_ext autoreload\n",
    "%autoreload 2\n",
    "\n",
    "import preprocess as prp\n"
   ]
  },
  {
   "cell_type": "code",
   "execution_count": 6,
   "id": "e7c2ad2f",
   "metadata": {},
   "outputs": [
    {
     "name": "stderr",
     "output_type": "stream",
     "text": [
      "INFO:root:Ingesting the data\n",
      "INFO:root:Ingested. Total transactions: 33819106\n",
      "INFO:root:Sampling the data\n",
      "INFO:root:Size of sample data: (8449267, 10)\n",
      "INFO:root:Unique users: 51552\n",
      "INFO:root:Sample ratio: 0.25\n",
      "INFO:root:Removing outlier users by number of orders\n",
      "INFO:root:Size of sample data: (6616412, 10)\n",
      "INFO:root:Unique users: 48910\n",
      "INFO:root:Getting train and test\n",
      "INFO:root:Sample data shape: (6616412, 10)\n",
      "INFO:root:Unique users: 48910\n",
      "INFO:root:Processing user 0 of 48910\n",
      "INFO:root:Processing user 5000 of 48910\n",
      "INFO:root:Processing user 10000 of 48910\n",
      "INFO:root:Processing user 15000 of 48910\n",
      "INFO:root:Processing user 20000 of 48910\n",
      "INFO:root:Processing user 25000 of 48910\n",
      "INFO:root:Processing user 30000 of 48910\n",
      "INFO:root:Processing user 35000 of 48910\n",
      "INFO:root:Processing user 40000 of 48910\n",
      "INFO:root:Processing user 45000 of 48910\n",
      "INFO:root:Train shape: (6102213, 10)\n",
      "INFO:root:Test shape: (514199, 11)\n",
      "INFO:root:Sorting and dropping columns\n",
      "INFO:root:Sorting and dropping columns\n",
      "INFO:root:Removing rare products\n",
      "INFO:root:Removed 24593 rare products\n",
      "INFO:root:Train size: (5962283, 4)\n",
      "INFO:root:Test size: (499240, 5)\n",
      "INFO:root:Saving train and test\n"
     ]
    }
   ],
   "source": [
    "train, test = prp.preprocess(\n",
    "    sample_ratio=0.25\n",
    ")"
   ]
  },
  {
   "cell_type": "code",
   "execution_count": null,
   "id": "e4e7e105",
   "metadata": {},
   "outputs": [],
   "source": []
  },
  {
   "cell_type": "code",
   "execution_count": null,
   "id": "89bcb7aa",
   "metadata": {},
   "outputs": [
    {
     "data": {
      "text/plain": [
       "(2504415, 4)"
      ]
     },
     "execution_count": 91,
     "metadata": {},
     "output_type": "execute_result"
    }
   ],
   "source": [
    "train_len = train.shape[0]\n",
    "train_users = train.user_id.unique()"
   ]
  },
  {
   "cell_type": "code",
   "execution_count": null,
   "id": "1abe560b",
   "metadata": {},
   "outputs": [],
   "source": []
  },
  {
   "cell_type": "code",
   "execution_count": null,
   "id": "d434d4bd",
   "metadata": {},
   "outputs": [],
   "source": []
  }
 ],
 "metadata": {
  "kernelspec": {
   "display_name": ".venv",
   "language": "python",
   "name": "python3"
  },
  "language_info": {
   "codemirror_mode": {
    "name": "ipython",
    "version": 3
   },
   "file_extension": ".py",
   "mimetype": "text/x-python",
   "name": "python",
   "nbconvert_exporter": "python",
   "pygments_lexer": "ipython3",
   "version": "3.12.0"
  }
 },
 "nbformat": 4,
 "nbformat_minor": 5
}
