{
 "cells": [
  {
   "cell_type": "code",
   "execution_count": 4,
   "id": "2b5cd990",
   "metadata": {},
   "outputs": [
    {
     "name": "stdout",
     "output_type": "stream",
     "text": [
      "The autoreload extension is already loaded. To reload it, use:\n",
      "  %reload_ext autoreload\n"
     ]
    }
   ],
   "source": [
    "%load_ext autoreload\n",
    "%autoreload 2\n",
    "\n",
    "import matplotlib.pyplot as plt\n",
    "import seaborn as sns\n",
    "import numpy as np\n",
    "import pandas as pd\n",
    "\n",
    "import preprocess as prp\n",
    "from metrics import (\n",
    "    recall_at_k\n",
    ")\n",
    "import methods.g_top_k as g_top_k\n",
    "import methods.p_top_k as p_top_k\n"
   ]
  },
  {
   "cell_type": "markdown",
   "id": "123fe2b7",
   "metadata": {},
   "source": [
    "# G TOP K"
   ]
  },
  {
   "cell_type": "code",
   "execution_count": 8,
   "id": "bada4c37",
   "metadata": {},
   "outputs": [
    {
     "name": "stdout",
     "output_type": "stream",
     "text": [
      "Sample ratio: 0.1\n",
      "explore_coeff: 0.411 +/- 0.004\n",
      "recall_at_5: 0.049 +/- 0.001\n",
      "Correlation with explore_coeff: -0.127\n",
      "recall_at_10: 0.073 +/- 0.002\n",
      "Correlation with explore_coeff: -0.129\n",
      "recall_at_20: 0.101 +/- 0.002\n",
      "Correlation with explore_coeff: -0.124\n",
      "----------------------------------------------------------------------------------------------------\n",
      "Sample ratio: 0.25\n",
      "explore_coeff: 0.414 +/- 0.003\n",
      "recall_at_5: 0.047 +/- 0.001\n",
      "Correlation with explore_coeff: -0.139\n",
      "recall_at_10: 0.070 +/- 0.001\n",
      "Correlation with explore_coeff: -0.140\n",
      "recall_at_20: 0.097 +/- 0.001\n",
      "Correlation with explore_coeff: -0.138\n",
      "----------------------------------------------------------------------------------------------------\n",
      "Sample ratio: 0.5\n",
      "explore_coeff: 0.413 +/- 0.002\n",
      "recall_at_5: 0.046 +/- 0.001\n",
      "Correlation with explore_coeff: -0.131\n",
      "recall_at_10: 0.069 +/- 0.001\n",
      "Correlation with explore_coeff: -0.132\n",
      "recall_at_20: 0.096 +/- 0.001\n",
      "Correlation with explore_coeff: -0.131\n",
      "----------------------------------------------------------------------------------------------------\n"
     ]
    }
   ],
   "source": [
    "g_top_k.main()"
   ]
  },
  {
   "cell_type": "markdown",
   "id": "a2c24b3c",
   "metadata": {},
   "source": [
    "# P TOP K"
   ]
  },
  {
   "cell_type": "code",
   "execution_count": 5,
   "id": "b137740a",
   "metadata": {},
   "outputs": [],
   "source": [
    "list_of_k = [5, 10, 20]"
   ]
  },
  {
   "cell_type": "code",
   "execution_count": 7,
   "id": "085df217",
   "metadata": {},
   "outputs": [
    {
     "name": "stdout",
     "output_type": "stream",
     "text": [
      "Sample ratio: 0.1\n",
      "explore_coeff: 0.411 +/- 0.004\n",
      "recall_at_5: 0.230 +/- 0.003\n",
      "Correlation with explore_coeff: -0.538\n",
      "recall_at_10: 0.327 +/- 0.004\n",
      "Correlation with explore_coeff: -0.658\n",
      "recall_at_20: 0.430 +/- 0.004\n",
      "Correlation with explore_coeff: -0.780\n",
      "----------------------------------------------------------------------------------------------------\n",
      "Sample ratio: 0.25\n",
      "explore_coeff: 0.414 +/- 0.003\n",
      "recall_at_5: 0.227 +/- 0.002\n",
      "Correlation with explore_coeff: -0.555\n",
      "recall_at_10: 0.320 +/- 0.002\n",
      "Correlation with explore_coeff: -0.669\n",
      "recall_at_20: 0.422 +/- 0.003\n",
      "Correlation with explore_coeff: -0.789\n",
      "----------------------------------------------------------------------------------------------------\n",
      "Sample ratio: 0.5\n",
      "explore_coeff: 0.413 +/- 0.002\n",
      "recall_at_5: 0.225 +/- 0.002\n",
      "Correlation with explore_coeff: -0.552\n",
      "recall_at_10: 0.318 +/- 0.002\n",
      "Correlation with explore_coeff: -0.668\n",
      "recall_at_20: 0.420 +/- 0.002\n",
      "Correlation with explore_coeff: -0.790\n",
      "----------------------------------------------------------------------------------------------------\n"
     ]
    }
   ],
   "source": [
    "p_top_k.main()"
   ]
  },
  {
   "cell_type": "markdown",
   "id": "b139eb1b",
   "metadata": {},
   "source": [
    "# GP TOP K"
   ]
  },
  {
   "cell_type": "code",
   "execution_count": 9,
   "id": "d2a1a969",
   "metadata": {},
   "outputs": [
    {
     "name": "stdout",
     "output_type": "stream",
     "text": [
      "Sample ratio: 0.1\n",
      "explore_coeff: 0.411 +/- 0.004\n",
      "recall_at_5: 0.230 +/- 0.003\n",
      "Correlation with explore_coeff: -0.536\n",
      "recall_at_10: 0.328 +/- 0.004\n",
      "Correlation with explore_coeff: -0.652\n",
      "recall_at_20: 0.434 +/- 0.004\n",
      "Correlation with explore_coeff: -0.765\n",
      "----------------------------------------------------------------------------------------------------\n",
      "Sample ratio: 0.25\n",
      "explore_coeff: 0.414 +/- 0.003\n",
      "recall_at_5: 0.227 +/- 0.002\n",
      "Correlation with explore_coeff: -0.554\n",
      "recall_at_10: 0.321 +/- 0.002\n",
      "Correlation with explore_coeff: -0.664\n",
      "recall_at_20: 0.426 +/- 0.003\n",
      "Correlation with explore_coeff: -0.776\n",
      "----------------------------------------------------------------------------------------------------\n",
      "Sample ratio: 0.5\n",
      "explore_coeff: 0.413 +/- 0.002\n",
      "recall_at_5: 0.225 +/- 0.002\n",
      "Correlation with explore_coeff: -0.551\n",
      "recall_at_10: 0.319 +/- 0.002\n",
      "Correlation with explore_coeff: -0.664\n",
      "recall_at_20: 0.423 +/- 0.002\n",
      "Correlation with explore_coeff: -0.777\n",
      "----------------------------------------------------------------------------------------------------\n",
      "Sample ratio: 0.75\n",
      "explore_coeff: 0.413 +/- 0.002\n",
      "recall_at_5: 0.224 +/- 0.001\n",
      "Correlation with explore_coeff: -0.552\n",
      "recall_at_10: 0.318 +/- 0.001\n",
      "Correlation with explore_coeff: -0.665\n",
      "recall_at_20: 0.421 +/- 0.002\n",
      "Correlation with explore_coeff: -0.777\n",
      "----------------------------------------------------------------------------------------------------\n"
     ]
    }
   ],
   "source": [
    "from methods.pg_top_k import main\n",
    "\n",
    "main()"
   ]
  },
  {
   "cell_type": "code",
   "execution_count": null,
   "id": "db474f70",
   "metadata": {},
   "outputs": [],
   "source": []
  }
 ],
 "metadata": {
  "kernelspec": {
   "display_name": ".venv",
   "language": "python",
   "name": "python3"
  },
  "language_info": {
   "codemirror_mode": {
    "name": "ipython",
    "version": 3
   },
   "file_extension": ".py",
   "mimetype": "text/x-python",
   "name": "python",
   "nbconvert_exporter": "python",
   "pygments_lexer": "ipython3",
   "version": "3.12.0"
  }
 },
 "nbformat": 4,
 "nbformat_minor": 5
}
